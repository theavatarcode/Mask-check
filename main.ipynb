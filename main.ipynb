{
 "cells": [
  {
   "cell_type": "code",
   "execution_count": 2,
   "id": "36741f82-33a1-4948-ae36-5b98ab3dc724",
   "metadata": {},
   "outputs": [],
   "source": [
    "import face_recognition\n",
    "import cv2"
   ]
  },
  {
   "cell_type": "code",
   "execution_count": 3,
   "id": "56137cb7-822f-4308-966f-8944af702bd7",
   "metadata": {},
   "outputs": [],
   "source": [
    "from keras.models import load_model\n",
    "from PIL import Image, ImageOps\n",
    "import numpy as np"
   ]
  },
  {
   "cell_type": "code",
   "execution_count": null,
   "id": "29c6b471-23ac-46dd-8915-24d492d45486",
   "metadata": {},
   "outputs": [],
   "source": [
    "import cv2\n",
    "import face_recognition\n",
    "import PIL\n",
    "import keras.models\n",
    "from keras.models import load_model\n",
    "from PIL import Image, ImageOps\n",
    "import numpy as np\n",
    "\n",
    "\n",
    "\n",
    "np.set_printoptions(suppress=True)\n",
    "model = load_model('keras_model.h5',compile=False)\n",
    "wbcam = cv2.VideoCapture(0)\n",
    "size = (224, 224)\n",
    "\n",
    "\n",
    "while True:\n",
    "    ret, frame = wbcam.read()\n",
    "    face_locate = face_recognition.face_locations(frame)\n",
    "    img_rgb = cv2.cvtColor(frame, cv2.COLOR_BGR2RGB)\n",
    "    \n",
    "    \n",
    "    data = np.ndarray(shape=(1, 224, 224, 3), dtype=np.float32)\n",
    "    \n",
    "    image = img_rgb\n",
    "    image_PIL = Image.fromarray(image)\n",
    "    \n",
    "    image = ImageOps.fit(image_PIL, size, Image.ANTIALIAS)\n",
    "\n",
    "    \n",
    "    image_array = np.asarray(image)\n",
    "    \n",
    "    normalized_image_array = (image_array.astype(np.float32) / 127.0) - 1\n",
    "    \n",
    "    data[0] = normalized_image_array\n",
    "\n",
    "   \n",
    "    prediction = model.predict(data)\n",
    "    print(prediction)\n",
    "\n",
    "\n",
    "    for face in face_locate:\n",
    "        top,right,bottom,left = face\n",
    "\n",
    "        if prediction[0][0] > prediction[0][1]:\n",
    "            cv2.putText(frame, 'UnMasked', (left,top-7), cv2.FONT_HERSHEY_COMPLEX,0.5, [0,0,255])\n",
    "            cv2.rectangle(frame, (left,top), (right,bottom), [0,0,255] , 4)\n",
    "        else:\n",
    "            cv2.putText(frame, 'Masked', (left,top-7), cv2.FONT_HERSHEY_COMPLEX,0.5, [0,255,0])\n",
    "            cv2.rectangle(frame, (left,top), (right,bottom), [0,255,0] , 4)\n",
    "\n",
    "    cv2.imshow(\"FaceRecognition by M6/3\", frame)\n",
    "    if cv2.waitKey(1) & 0xFF == ord(\"q\"):\n",
    "        break\n",
    "\n",
    "cv2.destroyAllWindows()"
   ]
  },
  {
   "cell_type": "code",
   "execution_count": null,
   "id": "75da70fe-5716-4d2f-988c-1c529abd2030",
   "metadata": {},
   "outputs": [],
   "source": []
  }
 ],
 "metadata": {
  "kernelspec": {
   "display_name": "Python 3.9.12 ('base')",
   "language": "python",
   "name": "python3"
  },
  "language_info": {
   "codemirror_mode": {
    "name": "ipython",
    "version": 3
   },
   "file_extension": ".py",
   "mimetype": "text/x-python",
   "name": "python",
   "nbconvert_exporter": "python",
   "pygments_lexer": "ipython3",
   "version": "3.9.12"
  },
  "vscode": {
   "interpreter": {
    "hash": "1cca9558bc5ad879ec93cc030b157d75f18267527c60932cecaace349eef54dd"
   }
  }
 },
 "nbformat": 4,
 "nbformat_minor": 5
}
